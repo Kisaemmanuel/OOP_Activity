{
 "cells": [
  {
   "cell_type": "markdown",
   "metadata": {},
   "source": [
    "1. Vehicle Class"
   ]
  },
  {
   "cell_type": "code",
   "execution_count": 1,
   "metadata": {},
   "outputs": [],
   "source": [
    "class Vehicle:\n",
    "    def __init__(self, color):\n",
    "        self.color = color\n",
    "\n",
    "    def get_color(self):\n",
    "        return self.color\n",
    "\n",
    "    def __str__(self):\n",
    "        return f\"This vehicle is {self.color}\""
   ]
  },
  {
   "cell_type": "markdown",
   "metadata": {},
   "source": [
    "2. Car Class(Inheriting from Vehicle)"
   ]
  },
  {
   "cell_type": "code",
   "execution_count": 2,
   "metadata": {},
   "outputs": [],
   "source": [
    "class Car(Vehicle):\n",
    "    def __init__(self, color, has_winter_tires=False):\n",
    "        super().__init__(color)\n",
    "        self.has_winter_tires = has_winter_tires\n",
    "\n",
    "    def __str__(self):\n",
    "        return f\"{super().__str__()}\\nHas winter tires: {self.has_winter_tires}\""
   ]
  },
  {
   "cell_type": "markdown",
   "metadata": {},
   "source": [
    "3. Truck Class (Inheriting from Vehicle)"
   ]
  },
  {
   "cell_type": "code",
   "execution_count": 3,
   "metadata": {},
   "outputs": [],
   "source": [
    "class Truck(Vehicle):\n",
    "    def __init__(self, color, has_trailer=False):\n",
    "        super().__init__(color)\n",
    "        self.has_trailer = has_trailer\n",
    "\n",
    "    def __str__(self):\n",
    "        return f\"{super().__str__()}\\nHas trailer: {self.has_trailer}\""
   ]
  },
  {
   "cell_type": "markdown",
   "metadata": {},
   "source": [
    "4. Garage Class"
   ]
  },
  {
   "cell_type": "code",
   "execution_count": 4,
   "metadata": {},
   "outputs": [],
   "source": [
    "class Garage:\n",
    "    def __init__(self):\n",
    "        self.parked_vehicle = None\n",
    "\n",
    "    def set_vehicle(self, parked):\n",
    "        self.parked_vehicle = parked\n",
    "\n",
    "    def __str__(self):\n",
    "        if self.parked_vehicle is None:\n",
    "            return \"The garage is empty.\"\n",
    "        else:\n",
    "            return f\"Description of the parked vehicle: {self.parked_vehicle}\""
   ]
  },
  {
   "cell_type": "markdown",
   "metadata": {},
   "source": [
    "5. GarageTester Class"
   ]
  },
  {
   "cell_type": "code",
   "execution_count": 5,
   "metadata": {},
   "outputs": [
    {
     "name": "stdout",
     "output_type": "stream",
     "text": [
      "Description of the parked vehicle: This vehicle is black\n",
      "Has trailer: False\n"
     ]
    }
   ],
   "source": [
    "class GarageTester:\n",
    "    @staticmethod\n",
    "    def get_example():\n",
    "        #  Truck object \n",
    "        truck = Truck(\"black\", has_trailer=False)\n",
    "        # Creating a Garage object\n",
    "        garage = Garage()\n",
    "        \n",
    "        # Park the truck in the garage\n",
    "        garage.set_vehicle(truck)\n",
    "        \n",
    "        # Printing the description of the vehicle in the garage\n",
    "        print(garage)\n",
    "\n",
    "# Running the test\n",
    "if __name__ == \"__main__\":\n",
    "    tester = GarageTester()\n",
    "    tester.get_example()"
   ]
  },
  {
   "cell_type": "markdown",
   "metadata": {},
   "source": [
    "6. Customer Class"
   ]
  },
  {
   "cell_type": "code",
   "execution_count": 6,
   "metadata": {},
   "outputs": [],
   "source": [
    "class Customer:\n",
    "    def __init__(self, name, address):\n",
    "        self.name = name\n",
    "        self.address = address\n",
    "\n",
    "    def __str__(self):\n",
    "        return f\"Customer Name: {self.name}, Address: {self.address}\"\n"
   ]
  }
 ],
 "metadata": {
  "kernelspec": {
   "display_name": "Python 3",
   "language": "python",
   "name": "python3"
  },
  "language_info": {
   "codemirror_mode": {
    "name": "ipython",
    "version": 3
   },
   "file_extension": ".py",
   "mimetype": "text/x-python",
   "name": "python",
   "nbconvert_exporter": "python",
   "pygments_lexer": "ipython3",
   "version": "3.12.2"
  }
 },
 "nbformat": 4,
 "nbformat_minor": 2
}
